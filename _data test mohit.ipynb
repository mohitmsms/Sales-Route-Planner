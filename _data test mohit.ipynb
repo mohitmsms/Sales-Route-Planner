{
 "cells": [
  {
   "cell_type": "code",
   "execution_count": 1,
   "id": "2d8f6461",
   "metadata": {},
   "outputs": [],
   "source": [
    "import pandas as pd\n",
    "import numpy as np"
   ]
  },
  {
   "cell_type": "code",
   "execution_count": 2,
   "id": "c4e89063",
   "metadata": {},
   "outputs": [],
   "source": [
    "import matplotlib.pyplot as plt\n",
    "%matplotlib inline\n",
    "\n",
    "import seaborn as sns"
   ]
  },
  {
   "cell_type": "code",
   "execution_count": 3,
   "id": "4839e09a",
   "metadata": {},
   "outputs": [],
   "source": [
    "df=pd.read_csv('Data Test - Sheet1.csv')"
   ]
  },
  {
   "cell_type": "code",
   "execution_count": 4,
   "id": "34c2216b",
   "metadata": {},
   "outputs": [
    {
     "data": {
      "text/html": [
       "<div>\n",
       "<style scoped>\n",
       "    .dataframe tbody tr th:only-of-type {\n",
       "        vertical-align: middle;\n",
       "    }\n",
       "\n",
       "    .dataframe tbody tr th {\n",
       "        vertical-align: top;\n",
       "    }\n",
       "\n",
       "    .dataframe thead th {\n",
       "        text-align: right;\n",
       "    }\n",
       "</style>\n",
       "<table border=\"1\" class=\"dataframe\">\n",
       "  <thead>\n",
       "    <tr style=\"text-align: right;\">\n",
       "      <th></th>\n",
       "      <th>Company Name</th>\n",
       "      <th>Address</th>\n",
       "      <th>Phone</th>\n",
       "      <th>Link</th>\n",
       "      <th>Rating</th>\n",
       "      <th>NumReview</th>\n",
       "      <th>Pin Code</th>\n",
       "      <th>Latitude</th>\n",
       "      <th>Longitude</th>\n",
       "    </tr>\n",
       "  </thead>\n",
       "  <tbody>\n",
       "    <tr>\n",
       "      <th>0</th>\n",
       "      <td>Brahmins Coffee Bar</td>\n",
       "      <td>Ranga Rao Road, Shankarapuram, Basavanagudi, B...</td>\n",
       "      <td>+(91)-9845030234</td>\n",
       "      <td>https://www.justdial.com/Bangalore/Brahmins-Co...</td>\n",
       "      <td>4.5</td>\n",
       "      <td>17504</td>\n",
       "      <td>560004</td>\n",
       "      <td>12.945281</td>\n",
       "      <td>77.574343</td>\n",
       "    </tr>\n",
       "    <tr>\n",
       "      <th>1</th>\n",
       "      <td>Hard Rock Cafe</td>\n",
       "      <td>No 40, Bible Society Building, St Marks Road, ...</td>\n",
       "      <td>+(91)-80-41242222</td>\n",
       "      <td>https://www.justdial.com/Bangalore/Hard-Rock-C...</td>\n",
       "      <td>4.3</td>\n",
       "      <td>15321</td>\n",
       "      <td>560001</td>\n",
       "      <td>12.974064</td>\n",
       "      <td>77.594598</td>\n",
       "    </tr>\n",
       "    <tr>\n",
       "      <th>2</th>\n",
       "      <td>Kaapi Katte</td>\n",
       "      <td>No.1160, Nehru Main Road, Beml Layout, 3rd Sta...</td>\n",
       "      <td>+(91)-80-28600044</td>\n",
       "      <td>https://www.justdial.com/Bangalore/Kaapi-Katte...</td>\n",
       "      <td>4.5</td>\n",
       "      <td>13421</td>\n",
       "      <td>560098</td>\n",
       "      <td>12.919529</td>\n",
       "      <td>77.518294</td>\n",
       "    </tr>\n",
       "    <tr>\n",
       "      <th>3</th>\n",
       "      <td>The Hole In The Wall Cafe</td>\n",
       "      <td>No 4, 8th Main Road, Koramangala 4th Block, Ba...</td>\n",
       "      <td>+(91)-080-40949490</td>\n",
       "      <td>https://www.justdial.com/Bangalore/The-Hole-In...</td>\n",
       "      <td>4.3</td>\n",
       "      <td>13073</td>\n",
       "      <td>560034</td>\n",
       "      <td>12.928168</td>\n",
       "      <td>77.635953</td>\n",
       "    </tr>\n",
       "    <tr>\n",
       "      <th>4</th>\n",
       "      <td>Kapoors Cafe</td>\n",
       "      <td>Thubarahalli, Varthur Main Road, Whitefield, B...</td>\n",
       "      <td>+(91)-080-32559441</td>\n",
       "      <td>https://www.justdial.com/Bangalore/Kapoors-Caf...</td>\n",
       "      <td>4.0</td>\n",
       "      <td>9612</td>\n",
       "      <td>560066</td>\n",
       "      <td>12.972498</td>\n",
       "      <td>77.735027</td>\n",
       "    </tr>\n",
       "  </tbody>\n",
       "</table>\n",
       "</div>"
      ],
      "text/plain": [
       "                Company Name  \\\n",
       "0        Brahmins Coffee Bar   \n",
       "1             Hard Rock Cafe   \n",
       "2                Kaapi Katte   \n",
       "3  The Hole In The Wall Cafe   \n",
       "4               Kapoors Cafe   \n",
       "\n",
       "                                             Address               Phone  \\\n",
       "0  Ranga Rao Road, Shankarapuram, Basavanagudi, B...    +(91)-9845030234   \n",
       "1  No 40, Bible Society Building, St Marks Road, ...   +(91)-80-41242222   \n",
       "2  No.1160, Nehru Main Road, Beml Layout, 3rd Sta...   +(91)-80-28600044   \n",
       "3  No 4, 8th Main Road, Koramangala 4th Block, Ba...  +(91)-080-40949490   \n",
       "4  Thubarahalli, Varthur Main Road, Whitefield, B...  +(91)-080-32559441   \n",
       "\n",
       "                                                Link  Rating  NumReview  \\\n",
       "0  https://www.justdial.com/Bangalore/Brahmins-Co...     4.5      17504   \n",
       "1  https://www.justdial.com/Bangalore/Hard-Rock-C...     4.3      15321   \n",
       "2  https://www.justdial.com/Bangalore/Kaapi-Katte...     4.5      13421   \n",
       "3  https://www.justdial.com/Bangalore/The-Hole-In...     4.3      13073   \n",
       "4  https://www.justdial.com/Bangalore/Kapoors-Caf...     4.0       9612   \n",
       "\n",
       "   Pin Code   Latitude  Longitude  \n",
       "0    560004  12.945281  77.574343  \n",
       "1    560001  12.974064  77.594598  \n",
       "2    560098  12.919529  77.518294  \n",
       "3    560034  12.928168  77.635953  \n",
       "4    560066  12.972498  77.735027  "
      ]
     },
     "execution_count": 4,
     "metadata": {},
     "output_type": "execute_result"
    }
   ],
   "source": [
    "df.head()"
   ]
  },
  {
   "cell_type": "code",
   "execution_count": 5,
   "id": "71f10c56",
   "metadata": {},
   "outputs": [
    {
     "data": {
      "text/html": [
       "<div>\n",
       "<style scoped>\n",
       "    .dataframe tbody tr th:only-of-type {\n",
       "        vertical-align: middle;\n",
       "    }\n",
       "\n",
       "    .dataframe tbody tr th {\n",
       "        vertical-align: top;\n",
       "    }\n",
       "\n",
       "    .dataframe thead th {\n",
       "        text-align: right;\n",
       "    }\n",
       "</style>\n",
       "<table border=\"1\" class=\"dataframe\">\n",
       "  <thead>\n",
       "    <tr style=\"text-align: right;\">\n",
       "      <th></th>\n",
       "      <th>Company Name</th>\n",
       "      <th>Address</th>\n",
       "      <th>Phone</th>\n",
       "      <th>Link</th>\n",
       "      <th>Rating</th>\n",
       "      <th>NumReview</th>\n",
       "      <th>Pin Code</th>\n",
       "      <th>Latitude</th>\n",
       "      <th>Longitude</th>\n",
       "    </tr>\n",
       "  </thead>\n",
       "  <tbody>\n",
       "    <tr>\n",
       "      <th>335</th>\n",
       "      <td>Athma Gyan Yoga</td>\n",
       "      <td>14th Cross,2nd Floor,Off K R Road, Shastry Nag...</td>\n",
       "      <td>+(91)-9739556688</td>\n",
       "      <td>https://www.justdial.com/Bangalore/Athma-Gyan-...</td>\n",
       "      <td>4.3</td>\n",
       "      <td>4</td>\n",
       "      <td>560028</td>\n",
       "      <td>12.933372</td>\n",
       "      <td>77.565701</td>\n",
       "    </tr>\n",
       "    <tr>\n",
       "      <th>336</th>\n",
       "      <td>Siddaram</td>\n",
       "      <td>No 152/4, 8th Main,, Preethi Nagar,, Laggere, ...</td>\n",
       "      <td>+(91)-9845379642</td>\n",
       "      <td>https://www.justdial.com/Bangalore/Siddaram-La...</td>\n",
       "      <td>3.2</td>\n",
       "      <td>3</td>\n",
       "      <td>560058</td>\n",
       "      <td>13.027537</td>\n",
       "      <td>77.518694</td>\n",
       "    </tr>\n",
       "    <tr>\n",
       "      <th>337</th>\n",
       "      <td>Yoga With Manu</td>\n",
       "      <td>#12, East Link Road,, 3rd Cross, B Street,, Ma...</td>\n",
       "      <td>07947215224</td>\n",
       "      <td>https://www.justdial.com/Bangalore/Yoga-With-M...</td>\n",
       "      <td>4.8</td>\n",
       "      <td>2</td>\n",
       "      <td>560003</td>\n",
       "      <td>12.996616</td>\n",
       "      <td>77.570890</td>\n",
       "    </tr>\n",
       "    <tr>\n",
       "      <th>338</th>\n",
       "      <td>Asha Yoga Trainer</td>\n",
       "      <td>No.147 Ward No.1, Yelahanka, Bangalore - 56006...</td>\n",
       "      <td>07947205375</td>\n",
       "      <td>https://www.justdial.com/Bangalore/Asha-Yoga-T...</td>\n",
       "      <td>5.0</td>\n",
       "      <td>1</td>\n",
       "      <td>560064</td>\n",
       "      <td>13.100104</td>\n",
       "      <td>77.588460</td>\n",
       "    </tr>\n",
       "    <tr>\n",
       "      <th>339</th>\n",
       "      <td>Yajna Therapeutic Yoga Rese..</td>\n",
       "      <td>C/o Venu Kondappa, Muthkur Village, Whitefield...</td>\n",
       "      <td>07947366360</td>\n",
       "      <td>https://www.justdial.com/Bangalore/Yajna-Thera...</td>\n",
       "      <td>5.0</td>\n",
       "      <td>1</td>\n",
       "      <td>560066</td>\n",
       "      <td>12.972498</td>\n",
       "      <td>77.735027</td>\n",
       "    </tr>\n",
       "  </tbody>\n",
       "</table>\n",
       "</div>"
      ],
      "text/plain": [
       "                      Company Name  \\\n",
       "335                Athma Gyan Yoga   \n",
       "336                       Siddaram   \n",
       "337                 Yoga With Manu   \n",
       "338              Asha Yoga Trainer   \n",
       "339  Yajna Therapeutic Yoga Rese..   \n",
       "\n",
       "                                               Address             Phone  \\\n",
       "335  14th Cross,2nd Floor,Off K R Road, Shastry Nag...  +(91)-9739556688   \n",
       "336  No 152/4, 8th Main,, Preethi Nagar,, Laggere, ...  +(91)-9845379642   \n",
       "337  #12, East Link Road,, 3rd Cross, B Street,, Ma...       07947215224   \n",
       "338  No.147 Ward No.1, Yelahanka, Bangalore - 56006...       07947205375   \n",
       "339  C/o Venu Kondappa, Muthkur Village, Whitefield...       07947366360   \n",
       "\n",
       "                                                  Link  Rating  NumReview  \\\n",
       "335  https://www.justdial.com/Bangalore/Athma-Gyan-...     4.3          4   \n",
       "336  https://www.justdial.com/Bangalore/Siddaram-La...     3.2          3   \n",
       "337  https://www.justdial.com/Bangalore/Yoga-With-M...     4.8          2   \n",
       "338  https://www.justdial.com/Bangalore/Asha-Yoga-T...     5.0          1   \n",
       "339  https://www.justdial.com/Bangalore/Yajna-Thera...     5.0          1   \n",
       "\n",
       "     Pin Code   Latitude  Longitude  \n",
       "335    560028  12.933372  77.565701  \n",
       "336    560058  13.027537  77.518694  \n",
       "337    560003  12.996616  77.570890  \n",
       "338    560064  13.100104  77.588460  \n",
       "339    560066  12.972498  77.735027  "
      ]
     },
     "execution_count": 5,
     "metadata": {},
     "output_type": "execute_result"
    }
   ],
   "source": [
    "df.tail()"
   ]
  },
  {
   "cell_type": "code",
   "execution_count": 6,
   "id": "30bae17e",
   "metadata": {},
   "outputs": [
    {
     "data": {
      "text/plain": [
       "(340, 9)"
      ]
     },
     "execution_count": 6,
     "metadata": {},
     "output_type": "execute_result"
    }
   ],
   "source": [
    "df.shape"
   ]
  },
  {
   "cell_type": "code",
   "execution_count": 7,
   "id": "371283a3",
   "metadata": {},
   "outputs": [
    {
     "data": {
      "text/plain": [
       "Index(['Company Name', 'Address', 'Phone', 'Link', 'Rating', 'NumReview',\n",
       "       'Pin Code', 'Latitude', 'Longitude'],\n",
       "      dtype='object')"
      ]
     },
     "execution_count": 7,
     "metadata": {},
     "output_type": "execute_result"
    }
   ],
   "source": [
    "df.columns"
   ]
  },
  {
   "cell_type": "code",
   "execution_count": 8,
   "id": "702690e1",
   "metadata": {},
   "outputs": [
    {
     "data": {
      "text/plain": [
       "Company Name    0\n",
       "Address         0\n",
       "Phone           1\n",
       "Link            0\n",
       "Rating          0\n",
       "NumReview       0\n",
       "Pin Code        0\n",
       "Latitude        0\n",
       "Longitude       0\n",
       "dtype: int64"
      ]
     },
     "execution_count": 8,
     "metadata": {},
     "output_type": "execute_result"
    }
   ],
   "source": [
    "df.isnull().sum()"
   ]
  },
  {
   "cell_type": "code",
   "execution_count": 9,
   "id": "b10046e0",
   "metadata": {},
   "outputs": [
    {
     "data": {
      "text/plain": [
       "Company Name    0\n",
       "Address         0\n",
       "Phone           0\n",
       "Link            0\n",
       "Rating          0\n",
       "NumReview       0\n",
       "Pin Code        0\n",
       "Latitude        0\n",
       "Longitude       0\n",
       "dtype: int64"
      ]
     },
     "execution_count": 9,
     "metadata": {},
     "output_type": "execute_result"
    }
   ],
   "source": [
    "df.dropna(inplace=True)\n",
    "df.isnull().sum()"
   ]
  },
  {
   "cell_type": "code",
   "execution_count": 10,
   "id": "a5a52b5c",
   "metadata": {},
   "outputs": [
    {
     "name": "stdout",
     "output_type": "stream",
     "text": [
      "<class 'pandas.core.frame.DataFrame'>\n",
      "Int64Index: 339 entries, 0 to 339\n",
      "Data columns (total 9 columns):\n",
      " #   Column        Non-Null Count  Dtype  \n",
      "---  ------        --------------  -----  \n",
      " 0   Company Name  339 non-null    object \n",
      " 1   Address       339 non-null    object \n",
      " 2   Phone         339 non-null    object \n",
      " 3   Link          339 non-null    object \n",
      " 4   Rating        339 non-null    float64\n",
      " 5   NumReview     339 non-null    int64  \n",
      " 6   Pin Code      339 non-null    int64  \n",
      " 7   Latitude      339 non-null    float64\n",
      " 8   Longitude     339 non-null    float64\n",
      "dtypes: float64(3), int64(2), object(4)\n",
      "memory usage: 26.5+ KB\n"
     ]
    }
   ],
   "source": [
    "df.info()"
   ]
  },
  {
   "cell_type": "code",
   "execution_count": 11,
   "id": "a9bb6496",
   "metadata": {},
   "outputs": [
    {
     "data": {
      "text/html": [
       "<div>\n",
       "<style scoped>\n",
       "    .dataframe tbody tr th:only-of-type {\n",
       "        vertical-align: middle;\n",
       "    }\n",
       "\n",
       "    .dataframe tbody tr th {\n",
       "        vertical-align: top;\n",
       "    }\n",
       "\n",
       "    .dataframe thead th {\n",
       "        text-align: right;\n",
       "    }\n",
       "</style>\n",
       "<table border=\"1\" class=\"dataframe\">\n",
       "  <thead>\n",
       "    <tr style=\"text-align: right;\">\n",
       "      <th></th>\n",
       "      <th>Rating</th>\n",
       "      <th>NumReview</th>\n",
       "      <th>Pin Code</th>\n",
       "      <th>Latitude</th>\n",
       "      <th>Longitude</th>\n",
       "    </tr>\n",
       "  </thead>\n",
       "  <tbody>\n",
       "    <tr>\n",
       "      <th>count</th>\n",
       "      <td>339.000000</td>\n",
       "      <td>339.000000</td>\n",
       "      <td>339.000000</td>\n",
       "      <td>339.000000</td>\n",
       "      <td>339.000000</td>\n",
       "    </tr>\n",
       "    <tr>\n",
       "      <th>mean</th>\n",
       "      <td>4.267552</td>\n",
       "      <td>1313.306785</td>\n",
       "      <td>560074.699115</td>\n",
       "      <td>13.826967</td>\n",
       "      <td>76.277569</td>\n",
       "    </tr>\n",
       "    <tr>\n",
       "      <th>std</th>\n",
       "      <td>0.389519</td>\n",
       "      <td>2322.185322</td>\n",
       "      <td>195.975087</td>\n",
       "      <td>5.476114</td>\n",
       "      <td>8.600149</td>\n",
       "    </tr>\n",
       "    <tr>\n",
       "      <th>min</th>\n",
       "      <td>3.200000</td>\n",
       "      <td>1.000000</td>\n",
       "      <td>560001.000000</td>\n",
       "      <td>12.782844</td>\n",
       "      <td>20.253788</td>\n",
       "    </tr>\n",
       "    <tr>\n",
       "      <th>25%</th>\n",
       "      <td>4.000000</td>\n",
       "      <td>30.500000</td>\n",
       "      <td>560035.000000</td>\n",
       "      <td>12.930985</td>\n",
       "      <td>77.574343</td>\n",
       "    </tr>\n",
       "    <tr>\n",
       "      <th>50%</th>\n",
       "      <td>4.200000</td>\n",
       "      <td>199.000000</td>\n",
       "      <td>560060.000000</td>\n",
       "      <td>12.977070</td>\n",
       "      <td>77.599907</td>\n",
       "    </tr>\n",
       "    <tr>\n",
       "      <th>75%</th>\n",
       "      <td>4.550000</td>\n",
       "      <td>2023.500000</td>\n",
       "      <td>560079.500000</td>\n",
       "      <td>13.019287</td>\n",
       "      <td>77.645250</td>\n",
       "    </tr>\n",
       "    <tr>\n",
       "      <th>max</th>\n",
       "      <td>5.000000</td>\n",
       "      <td>17504.000000</td>\n",
       "      <td>562125.000000</td>\n",
       "      <td>49.183223</td>\n",
       "      <td>77.797355</td>\n",
       "    </tr>\n",
       "  </tbody>\n",
       "</table>\n",
       "</div>"
      ],
      "text/plain": [
       "           Rating     NumReview       Pin Code    Latitude   Longitude\n",
       "count  339.000000    339.000000     339.000000  339.000000  339.000000\n",
       "mean     4.267552   1313.306785  560074.699115   13.826967   76.277569\n",
       "std      0.389519   2322.185322     195.975087    5.476114    8.600149\n",
       "min      3.200000      1.000000  560001.000000   12.782844   20.253788\n",
       "25%      4.000000     30.500000  560035.000000   12.930985   77.574343\n",
       "50%      4.200000    199.000000  560060.000000   12.977070   77.599907\n",
       "75%      4.550000   2023.500000  560079.500000   13.019287   77.645250\n",
       "max      5.000000  17504.000000  562125.000000   49.183223   77.797355"
      ]
     },
     "execution_count": 11,
     "metadata": {},
     "output_type": "execute_result"
    }
   ],
   "source": [
    "df.describe()"
   ]
  },
  {
   "cell_type": "code",
   "execution_count": 12,
   "id": "eddb18b9",
   "metadata": {},
   "outputs": [
    {
     "data": {
      "image/png": "[encoded data removed]",
      "text/plain": [
       "<Figure size 1152x720 with 1 Axes>"
      ]
     },
     "metadata": {
      "needs_background": "light"
     },
     "output_type": "display_data"
    }
   ],
   "source": [
    "plt.figure(figsize=(16, 10))\n",
    "sns.countplot(x='Pin Code', data=df)\n",
    "plt.xticks(rotation='vertical', size=10)\n",
    "plt.show()"
   ]
  },
  {
   "cell_type": "code",
   "execution_count": 13,
   "id": "db8fde0d",
   "metadata": {},
   "outputs": [],
   "source": [
    "from sklearn.cluster import KMeans\n",
    "from sklearn.preprocessing import MinMaxScaler"
   ]
  },
  {
   "cell_type": "code",
   "execution_count": 14,
   "id": "c4aead9c",
   "metadata": {},
   "outputs": [
    {
     "data": {
      "text/html": [
       "<div>\n",
       "<style scoped>\n",
       "    .dataframe tbody tr th:only-of-type {\n",
       "        vertical-align: middle;\n",
       "    }\n",
       "\n",
       "    .dataframe tbody tr th {\n",
       "        vertical-align: top;\n",
       "    }\n",
       "\n",
       "    .dataframe thead th {\n",
       "        text-align: right;\n",
       "    }\n",
       "</style>\n",
       "<table border=\"1\" class=\"dataframe\">\n",
       "  <thead>\n",
       "    <tr style=\"text-align: right;\">\n",
       "      <th></th>\n",
       "      <th>Company Name</th>\n",
       "      <th>Address</th>\n",
       "      <th>Phone</th>\n",
       "      <th>Link</th>\n",
       "      <th>Rating</th>\n",
       "      <th>NumReview</th>\n",
       "      <th>Pin Code</th>\n",
       "      <th>Latitude</th>\n",
       "      <th>Longitude</th>\n",
       "    </tr>\n",
       "  </thead>\n",
       "  <tbody>\n",
       "    <tr>\n",
       "      <th>0</th>\n",
       "      <td>Brahmins Coffee Bar</td>\n",
       "      <td>Ranga Rao Road, Shankarapuram, Basavanagudi, B...</td>\n",
       "      <td>+(91)-9845030234</td>\n",
       "      <td>https://www.justdial.com/Bangalore/Brahmins-Co...</td>\n",
       "      <td>4.5</td>\n",
       "      <td>17504</td>\n",
       "      <td>560004</td>\n",
       "      <td>12.945281</td>\n",
       "      <td>77.574343</td>\n",
       "    </tr>\n",
       "    <tr>\n",
       "      <th>1</th>\n",
       "      <td>Hard Rock Cafe</td>\n",
       "      <td>No 40, Bible Society Building, St Marks Road, ...</td>\n",
       "      <td>+(91)-80-41242222</td>\n",
       "      <td>https://www.justdial.com/Bangalore/Hard-Rock-C...</td>\n",
       "      <td>4.3</td>\n",
       "      <td>15321</td>\n",
       "      <td>560001</td>\n",
       "      <td>12.974064</td>\n",
       "      <td>77.594598</td>\n",
       "    </tr>\n",
       "    <tr>\n",
       "      <th>2</th>\n",
       "      <td>Kaapi Katte</td>\n",
       "      <td>No.1160, Nehru Main Road, Beml Layout, 3rd Sta...</td>\n",
       "      <td>+(91)-80-28600044</td>\n",
       "      <td>https://www.justdial.com/Bangalore/Kaapi-Katte...</td>\n",
       "      <td>4.5</td>\n",
       "      <td>13421</td>\n",
       "      <td>560098</td>\n",
       "      <td>12.919529</td>\n",
       "      <td>77.518294</td>\n",
       "    </tr>\n",
       "    <tr>\n",
       "      <th>3</th>\n",
       "      <td>The Hole In The Wall Cafe</td>\n",
       "      <td>No 4, 8th Main Road, Koramangala 4th Block, Ba...</td>\n",
       "      <td>+(91)-080-40949490</td>\n",
       "      <td>https://www.justdial.com/Bangalore/The-Hole-In...</td>\n",
       "      <td>4.3</td>\n",
       "      <td>13073</td>\n",
       "      <td>560034</td>\n",
       "      <td>12.928168</td>\n",
       "      <td>77.635953</td>\n",
       "    </tr>\n",
       "    <tr>\n",
       "      <th>4</th>\n",
       "      <td>Kapoors Cafe</td>\n",
       "      <td>Thubarahalli, Varthur Main Road, Whitefield, B...</td>\n",
       "      <td>+(91)-080-32559441</td>\n",
       "      <td>https://www.justdial.com/Bangalore/Kapoors-Caf...</td>\n",
       "      <td>4.0</td>\n",
       "      <td>9612</td>\n",
       "      <td>560066</td>\n",
       "      <td>12.972498</td>\n",
       "      <td>77.735027</td>\n",
       "    </tr>\n",
       "  </tbody>\n",
       "</table>\n",
       "</div>"
      ],
      "text/plain": [
       "                Company Name  \\\n",
       "0        Brahmins Coffee Bar   \n",
       "1             Hard Rock Cafe   \n",
       "2                Kaapi Katte   \n",
       "3  The Hole In The Wall Cafe   \n",
       "4               Kapoors Cafe   \n",
       "\n",
       "                                             Address               Phone  \\\n",
       "0  Ranga Rao Road, Shankarapuram, Basavanagudi, B...    +(91)-9845030234   \n",
       "1  No 40, Bible Society Building, St Marks Road, ...   +(91)-80-41242222   \n",
       "2  No.1160, Nehru Main Road, Beml Layout, 3rd Sta...   +(91)-80-28600044   \n",
       "3  No 4, 8th Main Road, Koramangala 4th Block, Ba...  +(91)-080-40949490   \n",
       "4  Thubarahalli, Varthur Main Road, Whitefield, B...  +(91)-080-32559441   \n",
       "\n",
       "                                                Link  Rating  NumReview  \\\n",
       "0  https://www.justdial.com/Bangalore/Brahmins-Co...     4.5      17504   \n",
       "1  https://www.justdial.com/Bangalore/Hard-Rock-C...     4.3      15321   \n",
       "2  https://www.justdial.com/Bangalore/Kaapi-Katte...     4.5      13421   \n",
       "3  https://www.justdial.com/Bangalore/The-Hole-In...     4.3      13073   \n",
       "4  https://www.justdial.com/Bangalore/Kapoors-Caf...     4.0       9612   \n",
       "\n",
       "   Pin Code   Latitude  Longitude  \n",
       "0    560004  12.945281  77.574343  \n",
       "1    560001  12.974064  77.594598  \n",
       "2    560098  12.919529  77.518294  \n",
       "3    560034  12.928168  77.635953  \n",
       "4    560066  12.972498  77.735027  "
      ]
     },
     "execution_count": 14,
     "metadata": {},
     "output_type": "execute_result"
    }
   ],
   "source": [
    "df.head()"
   ]
  },
  {
   "cell_type": "code",
   "execution_count": 15,
   "id": "c2123f33",
   "metadata": {},
   "outputs": [
    {
     "data": {
      "text/plain": [
       "Text(0, 0.5, 'Longitude')"
      ]
     },
     "execution_count": 15,
     "metadata": {},
     "output_type": "execute_result"
    },
    {
     "data": {
      "image/png": "[encoded data removed]",
      "text/plain": [
       "<Figure size 432x288 with 1 Axes>"
      ]
     },
     "metadata": {
      "needs_background": "light"
     },
     "output_type": "display_data"
    }
   ],
   "source": [
    "plt.scatter(df.Latitude,df['Longitude'])\n",
    "plt.xlabel('Latitude')\n",
    "plt.ylabel('Longitude')"
   ]
  },
  {
   "cell_type": "code",
   "execution_count": 16,
   "id": "844280e3",
   "metadata": {},
   "outputs": [
    {
     "data": {
      "text/plain": [
       "array([0, 0, 0, 0, 0, 0, 0, 0, 0, 0, 0, 0, 0, 0, 0, 0, 0, 0, 0, 0, 0, 0,\n",
       "       0, 0, 0, 0, 0, 0, 0, 0, 0, 0, 0, 0, 0, 0, 0, 0, 0, 0, 0, 0, 0, 0,\n",
       "       0, 0, 0, 0, 0, 0, 0, 0, 0, 0, 0, 0, 0, 0, 0, 0, 0, 0, 0, 0, 0, 0,\n",
       "       0, 0, 0, 0, 0, 0, 0, 0, 0, 0, 0, 0, 0, 0, 0, 0, 0, 0, 0, 0, 0, 0,\n",
       "       0, 0, 0, 2, 0, 0, 0, 0, 0, 0, 0, 0, 0, 0, 0, 0, 0, 0, 0, 0, 0, 0,\n",
       "       0, 0, 0, 0, 0, 0, 0, 1, 0, 0, 0, 2, 0, 0, 0, 0, 0, 0, 0, 0, 0, 0,\n",
       "       0, 0, 0, 0, 0, 0, 0, 0, 0, 0, 0, 0, 0, 0, 0, 0, 1, 0, 0, 0, 0, 0,\n",
       "       0, 0, 0, 0, 0, 0, 0, 0, 0, 0, 0, 0, 0, 0, 0, 0, 0, 0, 1, 0, 0, 0,\n",
       "       0, 0, 0, 0, 0, 0, 0, 0, 0, 0, 0, 0, 0, 0, 0, 0, 0, 0, 0, 0, 0, 0,\n",
       "       0, 0, 0, 0, 0, 0, 0, 0, 0, 0, 0, 0, 0, 0, 0, 0, 0, 0, 0, 0, 0, 0,\n",
       "       0, 0, 0, 0, 0, 0, 0, 0, 0, 0, 0, 0, 0, 0, 0, 0, 0, 0, 0, 0, 0, 0,\n",
       "       0, 0, 0, 0, 0, 0, 0, 0, 0, 0, 0, 0, 0, 0, 0, 0, 0, 0, 0, 0, 0, 0,\n",
       "       0, 0, 0, 0, 0, 0, 0, 0, 0, 0, 0, 0, 0, 0, 0, 0, 0, 0, 0, 0, 0, 0,\n",
       "       0, 0, 0, 0, 2, 0, 0, 0, 0, 0, 0, 0, 0, 0, 0, 0, 0, 0, 0, 0, 0, 0,\n",
       "       1, 0, 0, 0, 0, 0, 0, 0, 0, 0, 0, 0, 0, 0, 2, 0, 0, 0, 0, 0, 0, 0,\n",
       "       0, 0, 0, 0, 0, 0, 0, 0, 0])"
      ]
     },
     "execution_count": 16,
     "metadata": {},
     "output_type": "execute_result"
    }
   ],
   "source": [
    "km = KMeans(n_clusters=3)\n",
    "y_predicted = km.fit_predict(df[['Latitude','Longitude']])\n",
    "y_predicted"
   ]
  },
  {
   "cell_type": "code",
   "execution_count": 17,
   "id": "d015ec67",
   "metadata": {},
   "outputs": [
    {
     "data": {
      "text/html": [
       "<div>\n",
       "<style scoped>\n",
       "    .dataframe tbody tr th:only-of-type {\n",
       "        vertical-align: middle;\n",
       "    }\n",
       "\n",
       "    .dataframe tbody tr th {\n",
       "        vertical-align: top;\n",
       "    }\n",
       "\n",
       "    .dataframe thead th {\n",
       "        text-align: right;\n",
       "    }\n",
       "</style>\n",
       "<table border=\"1\" class=\"dataframe\">\n",
       "  <thead>\n",
       "    <tr style=\"text-align: right;\">\n",
       "      <th></th>\n",
       "      <th>Company Name</th>\n",
       "      <th>Address</th>\n",
       "      <th>Phone</th>\n",
       "      <th>Link</th>\n",
       "      <th>Rating</th>\n",
       "      <th>NumReview</th>\n",
       "      <th>Pin Code</th>\n",
       "      <th>Latitude</th>\n",
       "      <th>Longitude</th>\n",
       "      <th>cluster</th>\n",
       "    </tr>\n",
       "  </thead>\n",
       "  <tbody>\n",
       "    <tr>\n",
       "      <th>0</th>\n",
       "      <td>Brahmins Coffee Bar</td>\n",
       "      <td>Ranga Rao Road, Shankarapuram, Basavanagudi, B...</td>\n",
       "      <td>+(91)-9845030234</td>\n",
       "      <td>https://www.justdial.com/Bangalore/Brahmins-Co...</td>\n",
       "      <td>4.5</td>\n",
       "      <td>17504</td>\n",
       "      <td>560004</td>\n",
       "      <td>12.945281</td>\n",
       "      <td>77.574343</td>\n",
       "      <td>0</td>\n",
       "    </tr>\n",
       "    <tr>\n",
       "      <th>1</th>\n",
       "      <td>Hard Rock Cafe</td>\n",
       "      <td>No 40, Bible Society Building, St Marks Road, ...</td>\n",
       "      <td>+(91)-80-41242222</td>\n",
       "      <td>https://www.justdial.com/Bangalore/Hard-Rock-C...</td>\n",
       "      <td>4.3</td>\n",
       "      <td>15321</td>\n",
       "      <td>560001</td>\n",
       "      <td>12.974064</td>\n",
       "      <td>77.594598</td>\n",
       "      <td>0</td>\n",
       "    </tr>\n",
       "    <tr>\n",
       "      <th>2</th>\n",
       "      <td>Kaapi Katte</td>\n",
       "      <td>No.1160, Nehru Main Road, Beml Layout, 3rd Sta...</td>\n",
       "      <td>+(91)-80-28600044</td>\n",
       "      <td>https://www.justdial.com/Bangalore/Kaapi-Katte...</td>\n",
       "      <td>4.5</td>\n",
       "      <td>13421</td>\n",
       "      <td>560098</td>\n",
       "      <td>12.919529</td>\n",
       "      <td>77.518294</td>\n",
       "      <td>0</td>\n",
       "    </tr>\n",
       "    <tr>\n",
       "      <th>3</th>\n",
       "      <td>The Hole In The Wall Cafe</td>\n",
       "      <td>No 4, 8th Main Road, Koramangala 4th Block, Ba...</td>\n",
       "      <td>+(91)-080-40949490</td>\n",
       "      <td>https://www.justdial.com/Bangalore/The-Hole-In...</td>\n",
       "      <td>4.3</td>\n",
       "      <td>13073</td>\n",
       "      <td>560034</td>\n",
       "      <td>12.928168</td>\n",
       "      <td>77.635953</td>\n",
       "      <td>0</td>\n",
       "    </tr>\n",
       "    <tr>\n",
       "      <th>4</th>\n",
       "      <td>Kapoors Cafe</td>\n",
       "      <td>Thubarahalli, Varthur Main Road, Whitefield, B...</td>\n",
       "      <td>+(91)-080-32559441</td>\n",
       "      <td>https://www.justdial.com/Bangalore/Kapoors-Caf...</td>\n",
       "      <td>4.0</td>\n",
       "      <td>9612</td>\n",
       "      <td>560066</td>\n",
       "      <td>12.972498</td>\n",
       "      <td>77.735027</td>\n",
       "      <td>0</td>\n",
       "    </tr>\n",
       "  </tbody>\n",
       "</table>\n",
       "</div>"
      ],
      "text/plain": [
       "                Company Name  \\\n",
       "0        Brahmins Coffee Bar   \n",
       "1             Hard Rock Cafe   \n",
       "2                Kaapi Katte   \n",
       "3  The Hole In The Wall Cafe   \n",
       "4               Kapoors Cafe   \n",
       "\n",
       "                                             Address               Phone  \\\n",
       "0  Ranga Rao Road, Shankarapuram, Basavanagudi, B...    +(91)-9845030234   \n",
       "1  No 40, Bible Society Building, St Marks Road, ...   +(91)-80-41242222   \n",
       "2  No.1160, Nehru Main Road, Beml Layout, 3rd Sta...   +(91)-80-28600044   \n",
       "3  No 4, 8th Main Road, Koramangala 4th Block, Ba...  +(91)-080-40949490   \n",
       "4  Thubarahalli, Varthur Main Road, Whitefield, B...  +(91)-080-32559441   \n",
       "\n",
       "                                                Link  Rating  NumReview  \\\n",
       "0  https://www.justdial.com/Bangalore/Brahmins-Co...     4.5      17504   \n",
       "1  https://www.justdial.com/Bangalore/Hard-Rock-C...     4.3      15321   \n",
       "2  https://www.justdial.com/Bangalore/Kaapi-Katte...     4.5      13421   \n",
       "3  https://www.justdial.com/Bangalore/The-Hole-In...     4.3      13073   \n",
       "4  https://www.justdial.com/Bangalore/Kapoors-Caf...     4.0       9612   \n",
       "\n",
       "   Pin Code   Latitude  Longitude  cluster  \n",
       "0    560004  12.945281  77.574343        0  \n",
       "1    560001  12.974064  77.594598        0  \n",
       "2    560098  12.919529  77.518294        0  \n",
       "3    560034  12.928168  77.635953        0  \n",
       "4    560066  12.972498  77.735027        0  "
      ]
     },
     "execution_count": 17,
     "metadata": {},
     "output_type": "execute_result"
    }
   ],
   "source": [
    "df['cluster']=y_predicted\n",
    "df.head()"
   ]
  },
  {
   "cell_type": "code",
   "execution_count": 18,
   "id": "cf08f864",
   "metadata": {},
   "outputs": [
    {
     "data": {
      "text/html": [
       "<div>\n",
       "<style scoped>\n",
       "    .dataframe tbody tr th:only-of-type {\n",
       "        vertical-align: middle;\n",
       "    }\n",
       "\n",
       "    .dataframe tbody tr th {\n",
       "        vertical-align: top;\n",
       "    }\n",
       "\n",
       "    .dataframe thead th {\n",
       "        text-align: right;\n",
       "    }\n",
       "</style>\n",
       "<table border=\"1\" class=\"dataframe\">\n",
       "  <thead>\n",
       "    <tr style=\"text-align: right;\">\n",
       "      <th></th>\n",
       "      <th>Company Name</th>\n",
       "      <th>Address</th>\n",
       "      <th>Phone</th>\n",
       "      <th>Link</th>\n",
       "      <th>Rating</th>\n",
       "      <th>NumReview</th>\n",
       "      <th>Pin Code</th>\n",
       "      <th>Latitude</th>\n",
       "      <th>Longitude</th>\n",
       "      <th>cluster</th>\n",
       "    </tr>\n",
       "  </thead>\n",
       "  <tbody>\n",
       "    <tr>\n",
       "      <th>335</th>\n",
       "      <td>Athma Gyan Yoga</td>\n",
       "      <td>14th Cross,2nd Floor,Off K R Road, Shastry Nag...</td>\n",
       "      <td>+(91)-9739556688</td>\n",
       "      <td>https://www.justdial.com/Bangalore/Athma-Gyan-...</td>\n",
       "      <td>4.3</td>\n",
       "      <td>4</td>\n",
       "      <td>560028</td>\n",
       "      <td>12.933372</td>\n",
       "      <td>77.565701</td>\n",
       "      <td>0</td>\n",
       "    </tr>\n",
       "    <tr>\n",
       "      <th>336</th>\n",
       "      <td>Siddaram</td>\n",
       "      <td>No 152/4, 8th Main,, Preethi Nagar,, Laggere, ...</td>\n",
       "      <td>+(91)-9845379642</td>\n",
       "      <td>https://www.justdial.com/Bangalore/Siddaram-La...</td>\n",
       "      <td>3.2</td>\n",
       "      <td>3</td>\n",
       "      <td>560058</td>\n",
       "      <td>13.027537</td>\n",
       "      <td>77.518694</td>\n",
       "      <td>0</td>\n",
       "    </tr>\n",
       "    <tr>\n",
       "      <th>337</th>\n",
       "      <td>Yoga With Manu</td>\n",
       "      <td>#12, East Link Road,, 3rd Cross, B Street,, Ma...</td>\n",
       "      <td>07947215224</td>\n",
       "      <td>https://www.justdial.com/Bangalore/Yoga-With-M...</td>\n",
       "      <td>4.8</td>\n",
       "      <td>2</td>\n",
       "      <td>560003</td>\n",
       "      <td>12.996616</td>\n",
       "      <td>77.570890</td>\n",
       "      <td>0</td>\n",
       "    </tr>\n",
       "    <tr>\n",
       "      <th>338</th>\n",
       "      <td>Asha Yoga Trainer</td>\n",
       "      <td>No.147 Ward No.1, Yelahanka, Bangalore - 56006...</td>\n",
       "      <td>07947205375</td>\n",
       "      <td>https://www.justdial.com/Bangalore/Asha-Yoga-T...</td>\n",
       "      <td>5.0</td>\n",
       "      <td>1</td>\n",
       "      <td>560064</td>\n",
       "      <td>13.100104</td>\n",
       "      <td>77.588460</td>\n",
       "      <td>0</td>\n",
       "    </tr>\n",
       "    <tr>\n",
       "      <th>339</th>\n",
       "      <td>Yajna Therapeutic Yoga Rese..</td>\n",
       "      <td>C/o Venu Kondappa, Muthkur Village, Whitefield...</td>\n",
       "      <td>07947366360</td>\n",
       "      <td>https://www.justdial.com/Bangalore/Yajna-Thera...</td>\n",
       "      <td>5.0</td>\n",
       "      <td>1</td>\n",
       "      <td>560066</td>\n",
       "      <td>12.972498</td>\n",
       "      <td>77.735027</td>\n",
       "      <td>0</td>\n",
       "    </tr>\n",
       "  </tbody>\n",
       "</table>\n",
       "</div>"
      ],
      "text/plain": [
       "                      Company Name  \\\n",
       "335                Athma Gyan Yoga   \n",
       "336                       Siddaram   \n",
       "337                 Yoga With Manu   \n",
       "338              Asha Yoga Trainer   \n",
       "339  Yajna Therapeutic Yoga Rese..   \n",
       "\n",
       "                                               Address             Phone  \\\n",
       "335  14th Cross,2nd Floor,Off K R Road, Shastry Nag...  +(91)-9739556688   \n",
       "336  No 152/4, 8th Main,, Preethi Nagar,, Laggere, ...  +(91)-9845379642   \n",
       "337  #12, East Link Road,, 3rd Cross, B Street,, Ma...       07947215224   \n",
       "338  No.147 Ward No.1, Yelahanka, Bangalore - 56006...       07947205375   \n",
       "339  C/o Venu Kondappa, Muthkur Village, Whitefield...       07947366360   \n",
       "\n",
       "                                                  Link  Rating  NumReview  \\\n",
       "335  https://www.justdial.com/Bangalore/Athma-Gyan-...     4.3          4   \n",
       "336  https://www.justdial.com/Bangalore/Siddaram-La...     3.2          3   \n",
       "337  https://www.justdial.com/Bangalore/Yoga-With-M...     4.8          2   \n",
       "338  https://www.justdial.com/Bangalore/Asha-Yoga-T...     5.0          1   \n",
       "339  https://www.justdial.com/Bangalore/Yajna-Thera...     5.0          1   \n",
       "\n",
       "     Pin Code   Latitude  Longitude  cluster  \n",
       "335    560028  12.933372  77.565701        0  \n",
       "336    560058  13.027537  77.518694        0  \n",
       "337    560003  12.996616  77.570890        0  \n",
       "338    560064  13.100104  77.588460        0  \n",
       "339    560066  12.972498  77.735027        0  "
      ]
     },
     "execution_count": 18,
     "metadata": {},
     "output_type": "execute_result"
    }
   ],
   "source": [
    "df.tail()"
   ]
  },
  {
   "cell_type": "code",
   "execution_count": 19,
   "id": "290f57d9",
   "metadata": {},
   "outputs": [
    {
     "data": {
      "text/plain": [
       "array([[12.97694618, 77.61249546],\n",
       "       [49.0850019 , 21.6872076 ],\n",
       "       [48.9081137 , 20.40277183]])"
      ]
     },
     "execution_count": 19,
     "metadata": {},
     "output_type": "execute_result"
    }
   ],
   "source": [
    "km.cluster_centers_"
   ]
  },
  {
   "cell_type": "code",
   "execution_count": 20,
   "id": "238cf0d2",
   "metadata": {},
   "outputs": [
    {
     "data": {
      "text/plain": [
       "<matplotlib.legend.Legend at 0x1adb375daf0>"
      ]
     },
     "execution_count": 20,
     "metadata": {},
     "output_type": "execute_result"
    },
    {
     "data": {
      "image/png": "[encoded data removed]",
      "text/plain": [
       "<Figure size 432x288 with 1 Axes>"
      ]
     },
     "metadata": {
      "needs_background": "light"
     },
     "output_type": "display_data"
    }
   ],
   "source": [
    "df1 = df[df.cluster==0]\n",
    "df2 = df[df.cluster==1]\n",
    "df3 = df[df.cluster==2]\n",
    "plt.scatter(df1.Latitude,df1['Longitude'],color='green')\n",
    "plt.scatter(df2.Latitude,df2['Longitude'],color='red')\n",
    "plt.scatter(df3.Latitude,df3['Longitude'],color='black')\n",
    "plt.scatter(km.cluster_centers_[:,0],km.cluster_centers_[:,1],color='purple',marker='*',label='centroid')\n",
    "plt.xlabel('Latitude')\n",
    "plt.ylabel('Longitude')\n",
    "plt.legend()"
   ]
  },
  {
   "cell_type": "markdown",
   "id": "612070d0",
   "metadata": {},
   "source": [
    "Preprocessing using min max scaler"
   ]
  },
  {
   "cell_type": "code",
   "execution_count": 21,
   "id": "b273f1e6",
   "metadata": {},
   "outputs": [],
   "source": [
    "scaler = MinMaxScaler()\n",
    "\n",
    "scaler.fit(df[['Longitude']])\n",
    "df['Longitude'] = scaler.transform(df[['Longitude']])\n",
    "\n",
    "scaler.fit(df[['Latitude']])\n",
    "df['Latitude'] = scaler.transform(df[['Latitude']])"
   ]
  },
  {
   "cell_type": "code",
   "execution_count": 22,
   "id": "00b25d89",
   "metadata": {},
   "outputs": [
    {
     "data": {
      "text/html": [
       "<div>\n",
       "<style scoped>\n",
       "    .dataframe tbody tr th:only-of-type {\n",
       "        vertical-align: middle;\n",
       "    }\n",
       "\n",
       "    .dataframe tbody tr th {\n",
       "        vertical-align: top;\n",
       "    }\n",
       "\n",
       "    .dataframe thead th {\n",
       "        text-align: right;\n",
       "    }\n",
       "</style>\n",
       "<table border=\"1\" class=\"dataframe\">\n",
       "  <thead>\n",
       "    <tr style=\"text-align: right;\">\n",
       "      <th></th>\n",
       "      <th>Company Name</th>\n",
       "      <th>Address</th>\n",
       "      <th>Phone</th>\n",
       "      <th>Link</th>\n",
       "      <th>Rating</th>\n",
       "      <th>NumReview</th>\n",
       "      <th>Pin Code</th>\n",
       "      <th>Latitude</th>\n",
       "      <th>Longitude</th>\n",
       "      <th>cluster</th>\n",
       "    </tr>\n",
       "  </thead>\n",
       "  <tbody>\n",
       "    <tr>\n",
       "      <th>0</th>\n",
       "      <td>Brahmins Coffee Bar</td>\n",
       "      <td>Ranga Rao Road, Shankarapuram, Basavanagudi, B...</td>\n",
       "      <td>+(91)-9845030234</td>\n",
       "      <td>https://www.justdial.com/Bangalore/Brahmins-Co...</td>\n",
       "      <td>4.5</td>\n",
       "      <td>17504</td>\n",
       "      <td>560004</td>\n",
       "      <td>0.004462</td>\n",
       "      <td>0.996124</td>\n",
       "      <td>0</td>\n",
       "    </tr>\n",
       "    <tr>\n",
       "      <th>1</th>\n",
       "      <td>Hard Rock Cafe</td>\n",
       "      <td>No 40, Bible Society Building, St Marks Road, ...</td>\n",
       "      <td>+(91)-80-41242222</td>\n",
       "      <td>https://www.justdial.com/Bangalore/Hard-Rock-C...</td>\n",
       "      <td>4.3</td>\n",
       "      <td>15321</td>\n",
       "      <td>560001</td>\n",
       "      <td>0.005253</td>\n",
       "      <td>0.996476</td>\n",
       "      <td>0</td>\n",
       "    </tr>\n",
       "    <tr>\n",
       "      <th>2</th>\n",
       "      <td>Kaapi Katte</td>\n",
       "      <td>No.1160, Nehru Main Road, Beml Layout, 3rd Sta...</td>\n",
       "      <td>+(91)-80-28600044</td>\n",
       "      <td>https://www.justdial.com/Bangalore/Kaapi-Katte...</td>\n",
       "      <td>4.5</td>\n",
       "      <td>13421</td>\n",
       "      <td>560098</td>\n",
       "      <td>0.003755</td>\n",
       "      <td>0.995150</td>\n",
       "      <td>0</td>\n",
       "    </tr>\n",
       "    <tr>\n",
       "      <th>3</th>\n",
       "      <td>The Hole In The Wall Cafe</td>\n",
       "      <td>No 4, 8th Main Road, Koramangala 4th Block, Ba...</td>\n",
       "      <td>+(91)-080-40949490</td>\n",
       "      <td>https://www.justdial.com/Bangalore/The-Hole-In...</td>\n",
       "      <td>4.3</td>\n",
       "      <td>13073</td>\n",
       "      <td>560034</td>\n",
       "      <td>0.003992</td>\n",
       "      <td>0.997195</td>\n",
       "      <td>0</td>\n",
       "    </tr>\n",
       "    <tr>\n",
       "      <th>4</th>\n",
       "      <td>Kapoors Cafe</td>\n",
       "      <td>Thubarahalli, Varthur Main Road, Whitefield, B...</td>\n",
       "      <td>+(91)-080-32559441</td>\n",
       "      <td>https://www.justdial.com/Bangalore/Kapoors-Caf...</td>\n",
       "      <td>4.0</td>\n",
       "      <td>9612</td>\n",
       "      <td>560066</td>\n",
       "      <td>0.005210</td>\n",
       "      <td>0.998917</td>\n",
       "      <td>0</td>\n",
       "    </tr>\n",
       "  </tbody>\n",
       "</table>\n",
       "</div>"
      ],
      "text/plain": [
       "                Company Name  \\\n",
       "0        Brahmins Coffee Bar   \n",
       "1             Hard Rock Cafe   \n",
       "2                Kaapi Katte   \n",
       "3  The Hole In The Wall Cafe   \n",
       "4               Kapoors Cafe   \n",
       "\n",
       "                                             Address               Phone  \\\n",
       "0  Ranga Rao Road, Shankarapuram, Basavanagudi, B...    +(91)-9845030234   \n",
       "1  No 40, Bible Society Building, St Marks Road, ...   +(91)-80-41242222   \n",
       "2  No.1160, Nehru Main Road, Beml Layout, 3rd Sta...   +(91)-80-28600044   \n",
       "3  No 4, 8th Main Road, Koramangala 4th Block, Ba...  +(91)-080-40949490   \n",
       "4  Thubarahalli, Varthur Main Road, Whitefield, B...  +(91)-080-32559441   \n",
       "\n",
       "                                                Link  Rating  NumReview  \\\n",
       "0  https://www.justdial.com/Bangalore/Brahmins-Co...     4.5      17504   \n",
       "1  https://www.justdial.com/Bangalore/Hard-Rock-C...     4.3      15321   \n",
       "2  https://www.justdial.com/Bangalore/Kaapi-Katte...     4.5      13421   \n",
       "3  https://www.justdial.com/Bangalore/The-Hole-In...     4.3      13073   \n",
       "4  https://www.justdial.com/Bangalore/Kapoors-Caf...     4.0       9612   \n",
       "\n",
       "   Pin Code  Latitude  Longitude  cluster  \n",
       "0    560004  0.004462   0.996124        0  \n",
       "1    560001  0.005253   0.996476        0  \n",
       "2    560098  0.003755   0.995150        0  \n",
       "3    560034  0.003992   0.997195        0  \n",
       "4    560066  0.005210   0.998917        0  "
      ]
     },
     "execution_count": 22,
     "metadata": {},
     "output_type": "execute_result"
    }
   ],
   "source": [
    "df.head()"
   ]
  },
  {
   "cell_type": "code",
   "execution_count": 23,
   "id": "b19c4ace",
   "metadata": {},
   "outputs": [
    {
     "data": {
      "text/plain": [
       "<matplotlib.collections.PathCollection at 0x1adb37d6f70>"
      ]
     },
     "execution_count": 23,
     "metadata": {},
     "output_type": "execute_result"
    },
    {
     "data": {
      "image/png": "[encoded data removed]",
      "text/plain": [
       "<Figure size 432x288 with 1 Axes>"
      ]
     },
     "metadata": {
      "needs_background": "light"
     },
     "output_type": "display_data"
    }
   ],
   "source": [
    "plt.scatter(df.Latitude,df['Longitude'])"
   ]
  },
  {
   "cell_type": "code",
   "execution_count": 24,
   "id": "3ba406de",
   "metadata": {},
   "outputs": [
    {
     "data": {
      "text/plain": [
       "array([0, 0, 0, 0, 0, 0, 0, 0, 0, 0, 0, 0, 0, 0, 0, 0, 0, 0, 0, 0, 0, 0,\n",
       "       0, 0, 0, 0, 0, 0, 0, 0, 0, 0, 0, 0, 0, 0, 0, 0, 0, 0, 0, 0, 0, 0,\n",
       "       0, 0, 0, 0, 0, 0, 0, 0, 0, 0, 0, 0, 0, 0, 0, 0, 0, 0, 0, 0, 0, 0,\n",
       "       0, 0, 0, 0, 0, 0, 0, 0, 0, 0, 0, 0, 0, 0, 0, 0, 0, 0, 0, 0, 0, 0,\n",
       "       0, 0, 0, 2, 0, 0, 0, 0, 0, 0, 0, 0, 0, 0, 0, 0, 0, 0, 0, 0, 0, 0,\n",
       "       0, 0, 0, 0, 0, 0, 0, 1, 0, 0, 0, 2, 0, 0, 0, 0, 0, 0, 0, 0, 0, 0,\n",
       "       0, 0, 0, 0, 0, 0, 0, 0, 0, 0, 0, 0, 0, 0, 0, 0, 1, 0, 0, 0, 0, 0,\n",
       "       0, 0, 0, 0, 0, 0, 0, 0, 0, 0, 0, 0, 0, 0, 0, 0, 0, 0, 1, 0, 0, 0,\n",
       "       0, 0, 0, 0, 0, 0, 0, 0, 0, 0, 0, 0, 0, 0, 0, 0, 0, 0, 0, 0, 0, 0,\n",
       "       0, 0, 0, 0, 0, 0, 0, 0, 0, 0, 0, 0, 0, 0, 0, 0, 0, 0, 0, 0, 0, 0,\n",
       "       0, 0, 0, 0, 0, 0, 0, 0, 0, 0, 0, 0, 0, 0, 0, 0, 0, 0, 0, 0, 0, 0,\n",
       "       0, 0, 0, 0, 0, 0, 0, 0, 0, 0, 0, 0, 0, 0, 0, 0, 0, 0, 0, 0, 0, 0,\n",
       "       0, 0, 0, 0, 0, 0, 0, 0, 0, 0, 0, 0, 0, 0, 0, 0, 0, 0, 0, 0, 0, 0,\n",
       "       0, 0, 0, 0, 2, 0, 0, 0, 0, 0, 0, 0, 0, 0, 0, 0, 0, 0, 0, 0, 0, 0,\n",
       "       1, 0, 0, 0, 0, 0, 0, 0, 0, 0, 0, 0, 0, 0, 2, 0, 0, 0, 0, 0, 0, 0,\n",
       "       0, 0, 0, 0, 0, 0, 0, 0, 0])"
      ]
     },
     "execution_count": 24,
     "metadata": {},
     "output_type": "execute_result"
    }
   ],
   "source": [
    "km = KMeans(n_clusters=3)\n",
    "y_predicted = km.fit_predict(df[['Latitude','Longitude']])\n",
    "y_predicted"
   ]
  },
  {
   "cell_type": "code",
   "execution_count": 25,
   "id": "8fe90f8d",
   "metadata": {},
   "outputs": [
    {
     "data": {
      "text/html": [
       "<div>\n",
       "<style scoped>\n",
       "    .dataframe tbody tr th:only-of-type {\n",
       "        vertical-align: middle;\n",
       "    }\n",
       "\n",
       "    .dataframe tbody tr th {\n",
       "        vertical-align: top;\n",
       "    }\n",
       "\n",
       "    .dataframe thead th {\n",
       "        text-align: right;\n",
       "    }\n",
       "</style>\n",
       "<table border=\"1\" class=\"dataframe\">\n",
       "  <thead>\n",
       "    <tr style=\"text-align: right;\">\n",
       "      <th></th>\n",
       "      <th>Company Name</th>\n",
       "      <th>Address</th>\n",
       "      <th>Phone</th>\n",
       "      <th>Link</th>\n",
       "      <th>Rating</th>\n",
       "      <th>NumReview</th>\n",
       "      <th>Pin Code</th>\n",
       "      <th>Latitude</th>\n",
       "      <th>Longitude</th>\n",
       "      <th>cluster</th>\n",
       "    </tr>\n",
       "  </thead>\n",
       "  <tbody>\n",
       "    <tr>\n",
       "      <th>0</th>\n",
       "      <td>Brahmins Coffee Bar</td>\n",
       "      <td>Ranga Rao Road, Shankarapuram, Basavanagudi, B...</td>\n",
       "      <td>+(91)-9845030234</td>\n",
       "      <td>https://www.justdial.com/Bangalore/Brahmins-Co...</td>\n",
       "      <td>4.5</td>\n",
       "      <td>17504</td>\n",
       "      <td>560004</td>\n",
       "      <td>0.004462</td>\n",
       "      <td>0.996124</td>\n",
       "      <td>0</td>\n",
       "    </tr>\n",
       "    <tr>\n",
       "      <th>1</th>\n",
       "      <td>Hard Rock Cafe</td>\n",
       "      <td>No 40, Bible Society Building, St Marks Road, ...</td>\n",
       "      <td>+(91)-80-41242222</td>\n",
       "      <td>https://www.justdial.com/Bangalore/Hard-Rock-C...</td>\n",
       "      <td>4.3</td>\n",
       "      <td>15321</td>\n",
       "      <td>560001</td>\n",
       "      <td>0.005253</td>\n",
       "      <td>0.996476</td>\n",
       "      <td>0</td>\n",
       "    </tr>\n",
       "    <tr>\n",
       "      <th>2</th>\n",
       "      <td>Kaapi Katte</td>\n",
       "      <td>No.1160, Nehru Main Road, Beml Layout, 3rd Sta...</td>\n",
       "      <td>+(91)-80-28600044</td>\n",
       "      <td>https://www.justdial.com/Bangalore/Kaapi-Katte...</td>\n",
       "      <td>4.5</td>\n",
       "      <td>13421</td>\n",
       "      <td>560098</td>\n",
       "      <td>0.003755</td>\n",
       "      <td>0.995150</td>\n",
       "      <td>0</td>\n",
       "    </tr>\n",
       "    <tr>\n",
       "      <th>3</th>\n",
       "      <td>The Hole In The Wall Cafe</td>\n",
       "      <td>No 4, 8th Main Road, Koramangala 4th Block, Ba...</td>\n",
       "      <td>+(91)-080-40949490</td>\n",
       "      <td>https://www.justdial.com/Bangalore/The-Hole-In...</td>\n",
       "      <td>4.3</td>\n",
       "      <td>13073</td>\n",
       "      <td>560034</td>\n",
       "      <td>0.003992</td>\n",
       "      <td>0.997195</td>\n",
       "      <td>0</td>\n",
       "    </tr>\n",
       "    <tr>\n",
       "      <th>4</th>\n",
       "      <td>Kapoors Cafe</td>\n",
       "      <td>Thubarahalli, Varthur Main Road, Whitefield, B...</td>\n",
       "      <td>+(91)-080-32559441</td>\n",
       "      <td>https://www.justdial.com/Bangalore/Kapoors-Caf...</td>\n",
       "      <td>4.0</td>\n",
       "      <td>9612</td>\n",
       "      <td>560066</td>\n",
       "      <td>0.005210</td>\n",
       "      <td>0.998917</td>\n",
       "      <td>0</td>\n",
       "    </tr>\n",
       "  </tbody>\n",
       "</table>\n",
       "</div>"
      ],
      "text/plain": [
       "                Company Name  \\\n",
       "0        Brahmins Coffee Bar   \n",
       "1             Hard Rock Cafe   \n",
       "2                Kaapi Katte   \n",
       "3  The Hole In The Wall Cafe   \n",
       "4               Kapoors Cafe   \n",
       "\n",
       "                                             Address               Phone  \\\n",
       "0  Ranga Rao Road, Shankarapuram, Basavanagudi, B...    +(91)-9845030234   \n",
       "1  No 40, Bible Society Building, St Marks Road, ...   +(91)-80-41242222   \n",
       "2  No.1160, Nehru Main Road, Beml Layout, 3rd Sta...   +(91)-80-28600044   \n",
       "3  No 4, 8th Main Road, Koramangala 4th Block, Ba...  +(91)-080-40949490   \n",
       "4  Thubarahalli, Varthur Main Road, Whitefield, B...  +(91)-080-32559441   \n",
       "\n",
       "                                                Link  Rating  NumReview  \\\n",
       "0  https://www.justdial.com/Bangalore/Brahmins-Co...     4.5      17504   \n",
       "1  https://www.justdial.com/Bangalore/Hard-Rock-C...     4.3      15321   \n",
       "2  https://www.justdial.com/Bangalore/Kaapi-Katte...     4.5      13421   \n",
       "3  https://www.justdial.com/Bangalore/The-Hole-In...     4.3      13073   \n",
       "4  https://www.justdial.com/Bangalore/Kapoors-Caf...     4.0       9612   \n",
       "\n",
       "   Pin Code  Latitude  Longitude  cluster  \n",
       "0    560004  0.004462   0.996124        0  \n",
       "1    560001  0.005253   0.996476        0  \n",
       "2    560098  0.003755   0.995150        0  \n",
       "3    560034  0.003992   0.997195        0  \n",
       "4    560066  0.005210   0.998917        0  "
      ]
     },
     "execution_count": 25,
     "metadata": {},
     "output_type": "execute_result"
    }
   ],
   "source": [
    "df['cluster']=y_predicted\n",
    "df.head()"
   ]
  },
  {
   "cell_type": "code",
   "execution_count": 26,
   "id": "bd429473",
   "metadata": {},
   "outputs": [
    {
     "data": {
      "text/plain": [
       "array([[0.00533242, 0.99678748],\n",
       "       [0.99730165, 0.02491016],\n",
       "       [0.99244213, 0.00258906]])"
      ]
     },
     "execution_count": 26,
     "metadata": {},
     "output_type": "execute_result"
    }
   ],
   "source": [
    "km.cluster_centers_"
   ]
  },
  {
   "cell_type": "code",
   "execution_count": 27,
   "id": "366f542d",
   "metadata": {},
   "outputs": [
    {
     "data": {
      "text/plain": [
       "<matplotlib.legend.Legend at 0x1adb384e820>"
      ]
     },
     "execution_count": 27,
     "metadata": {},
     "output_type": "execute_result"
    },
    {
     "data": {
      "image/png": "[encoded data removed]",
      "text/plain": [
       "<Figure size 432x288 with 1 Axes>"
      ]
     },
     "metadata": {
      "needs_background": "light"
     },
     "output_type": "display_data"
    }
   ],
   "source": [
    "df1 = df[df.cluster==0]\n",
    "df2 = df[df.cluster==1]\n",
    "df3 = df[df.cluster==2]\n",
    "plt.scatter(df1.Latitude,df1['Longitude'],color='green')\n",
    "plt.scatter(df2.Latitude,df2['Longitude'],color='red')\n",
    "plt.scatter(df3.Latitude,df3['Longitude'],color='black')\n",
    "plt.scatter(km.cluster_centers_[:,0],km.cluster_centers_[:,1],color='purple',marker='*',label='centroid')\n",
    "plt.legend()"
   ]
  },
  {
   "cell_type": "markdown",
   "id": "ad8f5c57",
   "metadata": {},
   "source": [
    "Elbow Plot"
   ]
  },
  {
   "cell_type": "code",
   "execution_count": 28,
   "id": "b734a141",
   "metadata": {},
   "outputs": [
    {
     "name": "stderr",
     "output_type": "stream",
     "text": [
      "C:\\Users\\Mohit\\anaconda3\\lib\\site-packages\\sklearn\\cluster\\_kmeans.py:881: UserWarning: KMeans is known to have a memory leak on Windows with MKL, when there are less chunks than available threads. You can avoid it by setting the environment variable OMP_NUM_THREADS=2.\n",
      "  warnings.warn(\n"
     ]
    }
   ],
   "source": [
    "sse = []\n",
    "k_rng = range(1,12)\n",
    "for k in k_rng:\n",
    "    km = KMeans(n_clusters=k)\n",
    "    km.fit(df[['Latitude','Longitude']])\n",
    "    sse.append(km.inertia_)"
   ]
  },
  {
   "cell_type": "code",
   "execution_count": 29,
   "id": "4fc77cd3",
   "metadata": {},
   "outputs": [
    {
     "data": {
      "text/plain": [
       "[<matplotlib.lines.Line2D at 0x1adb3908700>]"
      ]
     },
     "execution_count": 29,
     "metadata": {},
     "output_type": "execute_result"
    },
    {
     "data": {
      "image/png": "[encoded data removed]",
      "text/plain": [
       "<Figure size 432x288 with 1 Axes>"
      ]
     },
     "metadata": {
      "needs_background": "light"
     },
     "output_type": "display_data"
    }
   ],
   "source": [
    "plt.xlabel('K')\n",
    "plt.ylabel('Sum of squared error')\n",
    "plt.plot(k_rng,sse)"
   ]
  },
  {
   "cell_type": "code",
   "execution_count": null,
   "id": "662038a7",
   "metadata": {},
   "outputs": [],
   "source": []
  }
 ],
 "metadata": {
  "kernelspec": {
   "display_name": "Python 3 (ipykernel)",
   "language": "python",
   "name": "python3"
  },
  "language_info": {
   "codemirror_mode": {
    "name": "ipython",
    "version": 3
   },
   "file_extension": ".py",
   "mimetype": "text/x-python",
   "name": "python",
   "nbconvert_exporter": "python",
   "pygments_lexer": "ipython3",
   "version": "3.9.7"
  }
 },
 "nbformat": 4,
 "nbformat_minor": 5
}
